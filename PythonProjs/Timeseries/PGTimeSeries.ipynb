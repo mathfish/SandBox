{
 "cells": [
  {
   "cell_type": "code",
   "execution_count": 28,
   "id": "b41ade20-5a7c-4b9d-9f06-8eb259fb2efc",
   "metadata": {},
   "outputs": [],
   "source": [
    "import psycopg2\n",
    "import pandas as pd"
   ]
  },
  {
   "cell_type": "code",
   "execution_count": 10,
   "id": "b4a8a90d-5f35-40e7-aa1f-d45e4d57f4ca",
   "metadata": {},
   "outputs": [],
   "source": [
    "def connect():\n",
    "    conn = psycopg2.connect(user=\"postgres\", password=\"postgres\", host=\"0.0.0.0\", port=\"5438\", database=\"postgres\")\n",
    "    return conn.cursor(), conn"
   ]
  },
  {
   "cell_type": "code",
   "execution_count": 36,
   "id": "e0228b29-96ff-4bf1-9507-e76bc06c66a6",
   "metadata": {},
   "outputs": [],
   "source": [
    "def db_cleanup(conn, cur):\n",
    "    cur.close()\n",
    "    conn.close()"
   ]
  },
  {
   "cell_type": "code",
   "execution_count": 38,
   "id": "ee5c42ff-13b2-4dbb-8851-ed98b651319c",
   "metadata": {},
   "outputs": [],
   "source": [
    "def to_pandas(res, cur):\n",
    "    return pd.DataFrame(res, columns=[col.name for col in cur.description])"
   ]
  },
  {
   "cell_type": "code",
   "execution_count": 15,
   "id": "550bb691-655c-41fa-acb0-e4aecfbabf25",
   "metadata": {},
   "outputs": [],
   "source": [
    "cursor = conn.cursor()\n",
    "tbl = \"retail_sales\""
   ]
  },
  {
   "cell_type": "code",
   "execution_count": 24,
   "id": "729569dc-89bf-457f-a9a9-b265af18fc26",
   "metadata": {},
   "outputs": [],
   "source": [
    "qry = \"\"\"\n",
    "SELECT sales_month\n",
    ",kind_of_business\n",
    ",sales\n",
    ",sum(sales) over (partition by sales_month) as total_sales\n",
    ",sales * 100 / sum(sales) over (partition by sales_month) as pct_total\n",
    "FROM retail_sales \n",
    "WHERE kind_of_business in ('Men''s clothing stores','Women''s clothing stores')\n",
    "ORDER BY 1\n",
    ";\n",
    "\"\"\""
   ]
  },
  {
   "cell_type": "code",
   "execution_count": 25,
   "id": "c2275453-8a70-410b-b4aa-ad3a24d9be69",
   "metadata": {},
   "outputs": [],
   "source": [
    "cursor.execute(qry)"
   ]
  },
  {
   "cell_type": "code",
   "execution_count": 26,
   "id": "7bfc6750-28ab-4224-a9f5-66c719a01599",
   "metadata": {},
   "outputs": [],
   "source": [
    "res = cursor.fetchall()"
   ]
  },
  {
   "cell_type": "code",
   "execution_count": 35,
   "id": "5b89e498-ee8f-459e-9b68-19da87a80de4",
   "metadata": {},
   "outputs": [
    {
     "data": {
      "text/html": [
       "<div>\n",
       "<style scoped>\n",
       "    .dataframe tbody tr th:only-of-type {\n",
       "        vertical-align: middle;\n",
       "    }\n",
       "\n",
       "    .dataframe tbody tr th {\n",
       "        vertical-align: top;\n",
       "    }\n",
       "\n",
       "    .dataframe thead th {\n",
       "        text-align: right;\n",
       "    }\n",
       "</style>\n",
       "<table border=\"1\" class=\"dataframe\">\n",
       "  <thead>\n",
       "    <tr style=\"text-align: right;\">\n",
       "      <th></th>\n",
       "      <th>sales_month</th>\n",
       "      <th>kind_of_business</th>\n",
       "      <th>sales</th>\n",
       "      <th>total_sales</th>\n",
       "      <th>pct_total</th>\n",
       "    </tr>\n",
       "  </thead>\n",
       "  <tbody>\n",
       "    <tr>\n",
       "      <th>0</th>\n",
       "      <td>1992-01-01</td>\n",
       "      <td>Women's clothing stores</td>\n",
       "      <td>1873</td>\n",
       "      <td>2574</td>\n",
       "      <td>72.7661227661227661</td>\n",
       "    </tr>\n",
       "    <tr>\n",
       "      <th>1</th>\n",
       "      <td>1992-01-01</td>\n",
       "      <td>Men's clothing stores</td>\n",
       "      <td>701</td>\n",
       "      <td>2574</td>\n",
       "      <td>27.2338772338772339</td>\n",
       "    </tr>\n",
       "    <tr>\n",
       "      <th>2</th>\n",
       "      <td>1992-02-01</td>\n",
       "      <td>Men's clothing stores</td>\n",
       "      <td>658</td>\n",
       "      <td>2649</td>\n",
       "      <td>24.8395620989052473</td>\n",
       "    </tr>\n",
       "    <tr>\n",
       "      <th>3</th>\n",
       "      <td>1992-02-01</td>\n",
       "      <td>Women's clothing stores</td>\n",
       "      <td>1991</td>\n",
       "      <td>2649</td>\n",
       "      <td>75.1604379010947527</td>\n",
       "    </tr>\n",
       "    <tr>\n",
       "      <th>4</th>\n",
       "      <td>1992-03-01</td>\n",
       "      <td>Women's clothing stores</td>\n",
       "      <td>2403</td>\n",
       "      <td>3134</td>\n",
       "      <td>76.6751754945756222</td>\n",
       "    </tr>\n",
       "    <tr>\n",
       "      <th>...</th>\n",
       "      <td>...</td>\n",
       "      <td>...</td>\n",
       "      <td>...</td>\n",
       "      <td>...</td>\n",
       "      <td>...</td>\n",
       "    </tr>\n",
       "    <tr>\n",
       "      <th>691</th>\n",
       "      <td>2020-10-01</td>\n",
       "      <td>Women's clothing stores</td>\n",
       "      <td>2634</td>\n",
       "      <td>2634</td>\n",
       "      <td>100.0000000000000000</td>\n",
       "    </tr>\n",
       "    <tr>\n",
       "      <th>692</th>\n",
       "      <td>2020-11-01</td>\n",
       "      <td>Men's clothing stores</td>\n",
       "      <td>None</td>\n",
       "      <td>2726</td>\n",
       "      <td>None</td>\n",
       "    </tr>\n",
       "    <tr>\n",
       "      <th>693</th>\n",
       "      <td>2020-11-01</td>\n",
       "      <td>Women's clothing stores</td>\n",
       "      <td>2726</td>\n",
       "      <td>2726</td>\n",
       "      <td>100.0000000000000000</td>\n",
       "    </tr>\n",
       "    <tr>\n",
       "      <th>694</th>\n",
       "      <td>2020-12-01</td>\n",
       "      <td>Men's clothing stores</td>\n",
       "      <td>604</td>\n",
       "      <td>4003</td>\n",
       "      <td>15.0886834873844617</td>\n",
       "    </tr>\n",
       "    <tr>\n",
       "      <th>695</th>\n",
       "      <td>2020-12-01</td>\n",
       "      <td>Women's clothing stores</td>\n",
       "      <td>3399</td>\n",
       "      <td>4003</td>\n",
       "      <td>84.9113165126155383</td>\n",
       "    </tr>\n",
       "  </tbody>\n",
       "</table>\n",
       "<p>696 rows × 5 columns</p>\n",
       "</div>"
      ],
      "text/plain": [
       "    sales_month         kind_of_business sales total_sales  \\\n",
       "0    1992-01-01  Women's clothing stores  1873        2574   \n",
       "1    1992-01-01    Men's clothing stores   701        2574   \n",
       "2    1992-02-01    Men's clothing stores   658        2649   \n",
       "3    1992-02-01  Women's clothing stores  1991        2649   \n",
       "4    1992-03-01  Women's clothing stores  2403        3134   \n",
       "..          ...                      ...   ...         ...   \n",
       "691  2020-10-01  Women's clothing stores  2634        2634   \n",
       "692  2020-11-01    Men's clothing stores  None        2726   \n",
       "693  2020-11-01  Women's clothing stores  2726        2726   \n",
       "694  2020-12-01    Men's clothing stores   604        4003   \n",
       "695  2020-12-01  Women's clothing stores  3399        4003   \n",
       "\n",
       "                pct_total  \n",
       "0     72.7661227661227661  \n",
       "1     27.2338772338772339  \n",
       "2     24.8395620989052473  \n",
       "3     75.1604379010947527  \n",
       "4     76.6751754945756222  \n",
       "..                    ...  \n",
       "691  100.0000000000000000  \n",
       "692                  None  \n",
       "693  100.0000000000000000  \n",
       "694   15.0886834873844617  \n",
       "695   84.9113165126155383  \n",
       "\n",
       "[696 rows x 5 columns]"
      ]
     },
     "execution_count": 35,
     "metadata": {},
     "output_type": "execute_result"
    }
   ],
   "source": [
    "pd.DataFrame(res, columns=[col.name for col in cursor.description])"
   ]
  },
  {
   "cell_type": "code",
   "execution_count": null,
   "id": "7046ecec-fbed-419b-a3c9-1d759312db4c",
   "metadata": {},
   "outputs": [],
   "source": []
  }
 ],
 "metadata": {
  "kernelspec": {
   "display_name": "Python 3 (ipykernel)",
   "language": "python",
   "name": "python3"
  },
  "language_info": {
   "codemirror_mode": {
    "name": "ipython",
    "version": 3
   },
   "file_extension": ".py",
   "mimetype": "text/x-python",
   "name": "python",
   "nbconvert_exporter": "python",
   "pygments_lexer": "ipython3",
   "version": "3.8.12"
  }
 },
 "nbformat": 4,
 "nbformat_minor": 5
}
