{
 "cells": [
  {
   "cell_type": "code",
   "execution_count": 1,
   "id": "7a9bb46a",
   "metadata": {},
   "outputs": [],
   "source": [
    "%matplotlib widget\n",
    "import numpy as np\n",
    "import matplotlib.pyplot as plt\n",
    "from matplotlib.animation import FuncAnimation\n",
    "import time\n",
    "\n",
    "from numpy.random import randint"
   ]
  },
  {
   "cell_type": "markdown",
   "id": "647edfe7",
   "metadata": {},
   "source": [
    "# Game of Life Rules\n",
    "1. Any live cell with two or three live neighbours survives.\n",
    "2. Any dead cell with three live neighbours becomes a live cell.\n",
    "3. All other live cells die in the next generation. Similarly, all other dead cells stay dead."
   ]
  },
  {
   "cell_type": "code",
   "execution_count": 30,
   "id": "6749a7fc",
   "metadata": {},
   "outputs": [],
   "source": [
    "# initial setup\n",
    "rows = 40\n",
    "cols = 40\n",
    "board = randint(0, high=2, size=(rows, cols))"
   ]
  },
  {
   "cell_type": "code",
   "execution_count": 31,
   "id": "2e5b98ac-0f70-44a2-baff-a9bf88b78f1e",
   "metadata": {},
   "outputs": [
    {
     "data": {
      "text/plain": [
       "array([[1, 0, 0, ..., 1, 1, 1],\n",
       "       [1, 1, 1, ..., 1, 1, 0],\n",
       "       [1, 1, 0, ..., 0, 0, 0],\n",
       "       ...,\n",
       "       [1, 0, 1, ..., 1, 0, 0],\n",
       "       [0, 1, 0, ..., 1, 1, 0],\n",
       "       [0, 1, 0, ..., 0, 0, 0]])"
      ]
     },
     "execution_count": 31,
     "metadata": {},
     "output_type": "execute_result"
    }
   ],
   "source": [
    "board"
   ]
  },
  {
   "cell_type": "code",
   "execution_count": 32,
   "id": "33d2dd7e-8df0-488c-af66-25b7d01422ab",
   "metadata": {},
   "outputs": [],
   "source": [
    "def get_live_neighbors(m, n, curr_board):\n",
    "    c_start, c_end = max(0,n-1), min(cols-1, n+1)\n",
    "    r_start, r_end = max(0,m-1), min(rows-1, m+1)\n",
    "    return curr_board[r_start:r_end+1, c_start:c_end+1].sum() - curr_board[m, n]\n",
    "\n",
    "def update_cell(num_live, state):\n",
    "    if num_live in (2, 3) and state == 1:\n",
    "        return 1\n",
    "    if num_live == 3 and state == 0:\n",
    "        return 1\n",
    "    \n",
    "    return 0\n",
    "\n",
    "def update_board(curr_board):\n",
    "    new_board = np.zeros((rows, cols), dtype=int)\n",
    "    for row in range(curr_board.shape[0]):\n",
    "        for col in range(curr_board.shape[1]):\n",
    "            num_live = get_live_neighbors(row, col, curr_board)\n",
    "            new_state = update_cell(num_live, curr_board[row, col])\n",
    "            new_board[row, col] = new_state\n",
    "    \n",
    "    return new_board"
   ]
  },
  {
   "cell_type": "code",
   "execution_count": 33,
   "id": "7d2b788e",
   "metadata": {},
   "outputs": [
    {
     "data": {
      "application/vnd.jupyter.widget-view+json": {
       "model_id": "81b915fb9cbe494eb7408200d363c156",
       "version_major": 2,
       "version_minor": 0
      },
      "text/html": [
       "\n",
       "            <div style=\"display: inline-block;\">\n",
       "                <div class=\"jupyter-widgets widget-label\" style=\"text-align: center;\">\n",
       "                    Figure\n",
       "                </div>\n",
       "                <img src='data:image/png;base64,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' width=640.0/>\n",
       "            </div>\n",
       "        "
      ],
      "text/plain": [
       "Canvas(toolbar=Toolbar(toolitems=[('Home', 'Reset original view', 'home', 'home'), ('Back', 'Back to previous …"
      ]
     },
     "metadata": {},
     "output_type": "display_data"
    }
   ],
   "source": [
    "fig, ax = plt.subplots()\n",
    "ax.set_aspect(1)\n",
    "im = plt.imshow(board, interpolation='none', cmap='binary')\n",
    "ax.set_title(f\"Iteration 0\")\n",
    "ax.set_xticks([])\n",
    "ax.set_yticks([])\n",
    "ax.set_xticklabels([])\n",
    "ax.set_yticklabels([])\n",
    "\n",
    "def init():\n",
    "    im.set_data(randint(0, high=2, size=(rows, cols)))\n",
    "    return [im]\n",
    "\n",
    "boards = []\n",
    "def animate(i):\n",
    "    curr_board = im.get_array()\n",
    "    boards.append(curr_board)\n",
    "    new_board = update_board(curr_board)\n",
    "    im.set_array(new_board)\n",
    "    ax.set_title(f\"Iteration {i}\")\n",
    "    return [im]\n",
    "\n",
    "anim = FuncAnimation(fig, animate, init_func=init, frames=1000, interval=300, blit=False)\n",
    "\n",
    "plt.show()"
   ]
  },
  {
   "cell_type": "code",
   "execution_count": 28,
   "id": "8369dc01-1bb1-4731-adf8-48210d0ea230",
   "metadata": {},
   "outputs": [],
   "source": [
    "anim.event_source.stop()"
   ]
  },
  {
   "cell_type": "code",
   "execution_count": 29,
   "id": "43a69605-cbd2-4f31-8301-505e5480dd8f",
   "metadata": {},
   "outputs": [],
   "source": [
    "plt.close('all')"
   ]
  },
  {
   "cell_type": "code",
   "execution_count": null,
   "id": "f3aedcf3-074b-457b-88a5-cb9a9e888a55",
   "metadata": {},
   "outputs": [],
   "source": []
  }
 ],
 "metadata": {
  "kernelspec": {
   "display_name": "Python 3 (ipykernel)",
   "language": "python",
   "name": "python3"
  },
  "language_info": {
   "codemirror_mode": {
    "name": "ipython",
    "version": 3
   },
   "file_extension": ".py",
   "mimetype": "text/x-python",
   "name": "python",
   "nbconvert_exporter": "python",
   "pygments_lexer": "ipython3",
   "version": "3.10.0"
  }
 },
 "nbformat": 4,
 "nbformat_minor": 5
}
