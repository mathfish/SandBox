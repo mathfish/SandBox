{
 "cells": [
  {
   "cell_type": "code",
   "execution_count": 1,
   "id": "7a9bb46a",
   "metadata": {},
   "outputs": [],
   "source": [
    "%matplotlib widget\n",
    "import numpy as np\n",
    "import matplotlib.pyplot as plt\n",
    "from matplotlib.animation import FuncAnimation\n",
    "import time\n",
    "\n",
    "from numpy.random import randint"
   ]
  },
  {
   "cell_type": "markdown",
   "id": "647edfe7",
   "metadata": {},
   "source": [
    "# Game of Life Rules\n",
    "1. Any live cell with two or three live neighbours survives.\n",
    "2. Any dead cell with three live neighbours becomes a live cell.\n",
    "3. All other live cells die in the next generation. Similarly, all other dead cells stay dead."
   ]
  },
  {
   "cell_type": "code",
   "execution_count": 105,
   "id": "6749a7fc",
   "metadata": {},
   "outputs": [],
   "source": [
    "# initial setup\n",
    "rows = 15\n",
    "cols = 15\n",
    "board = randint(0, high=2, size=(rows, cols))"
   ]
  },
  {
   "cell_type": "code",
   "execution_count": 106,
   "id": "2e5b98ac-0f70-44a2-baff-a9bf88b78f1e",
   "metadata": {},
   "outputs": [
    {
     "data": {
      "text/plain": [
       "array([[0, 1, 0, 0, 0, 0, 0, 1, 1, 1, 0, 0, 1, 1, 0],\n",
       "       [0, 0, 0, 1, 1, 0, 0, 1, 1, 0, 0, 1, 0, 1, 0],\n",
       "       [0, 0, 0, 1, 0, 0, 1, 0, 0, 1, 0, 1, 0, 0, 1],\n",
       "       [1, 1, 0, 1, 0, 0, 0, 0, 1, 1, 0, 0, 1, 0, 1],\n",
       "       [0, 1, 1, 1, 1, 1, 0, 0, 1, 0, 1, 0, 1, 1, 0],\n",
       "       [1, 1, 0, 0, 1, 1, 0, 0, 0, 1, 0, 0, 1, 1, 0],\n",
       "       [0, 1, 0, 0, 1, 1, 1, 0, 0, 0, 1, 1, 1, 0, 1],\n",
       "       [1, 0, 1, 0, 0, 1, 1, 0, 1, 0, 0, 1, 0, 1, 1],\n",
       "       [1, 1, 1, 0, 0, 0, 1, 0, 0, 0, 1, 1, 0, 0, 1],\n",
       "       [0, 0, 0, 0, 0, 1, 0, 0, 1, 0, 1, 1, 0, 0, 0],\n",
       "       [0, 0, 0, 1, 0, 1, 0, 1, 1, 0, 1, 1, 0, 0, 1],\n",
       "       [0, 0, 1, 0, 0, 0, 1, 1, 1, 0, 0, 1, 1, 1, 1],\n",
       "       [0, 1, 1, 0, 0, 1, 1, 0, 0, 1, 1, 1, 1, 0, 0],\n",
       "       [1, 0, 1, 1, 0, 0, 1, 1, 0, 1, 1, 1, 0, 1, 1],\n",
       "       [1, 0, 0, 0, 0, 0, 0, 0, 0, 0, 0, 1, 0, 1, 0]])"
      ]
     },
     "execution_count": 106,
     "metadata": {},
     "output_type": "execute_result"
    }
   ],
   "source": [
    "board"
   ]
  },
  {
   "cell_type": "code",
   "execution_count": 87,
   "id": "33d2dd7e-8df0-488c-af66-25b7d01422ab",
   "metadata": {},
   "outputs": [],
   "source": [
    "def get_live_neighbors(m, n, curr_board):\n",
    "    c_start, c_end = max(0,n-1), min(cols-1, n+1)\n",
    "    r_start, r_end = max(0,m-1), min(cols-1, m+1)\n",
    "    return curr_board[r_start:r_end+1, c_start:c_end+1].sum() - curr_board[m, n]\n",
    "\n",
    "def update_cell(num_live, state):\n",
    "    if num_live in (2, 3) and state == 1:\n",
    "        return 1\n",
    "    if num_live == 3 and state == 0:\n",
    "        return 1\n",
    "    \n",
    "    return 0\n",
    "\n",
    "def update_board(curr_board):\n",
    "    new_board = np.zeros((rows, cols), dtype=int)\n",
    "    for row in range(curr_board.shape[0]):\n",
    "        for col in range(curr_board.shape[1]):\n",
    "            num_live = get_live_neighbors(row, col, curr_board)\n",
    "            new_state = update_cell(num_live, curr_board[row, col])\n",
    "            new_board[row, col] = new_state\n",
    "    \n",
    "    return new_board"
   ]
  },
  {
   "cell_type": "code",
   "execution_count": 107,
   "id": "7d2b788e",
   "metadata": {},
   "outputs": [
    {
     "data": {
      "application/vnd.jupyter.widget-view+json": {
       "model_id": "3b11b40c695a4073ad78015f58bd2932",
       "version_major": 2,
       "version_minor": 0
      },
      "text/html": [
       "\n",
       "            <div style=\"display: inline-block;\">\n",
       "                <div class=\"jupyter-widgets widget-label\" style=\"text-align: center;\">\n",
       "                    Figure\n",
       "                </div>\n",
       "                <img src='data:image/png;base64,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' width=750.0/>\n",
       "            </div>\n",
       "        "
      ],
      "text/plain": [
       "Canvas(toolbar=Toolbar(toolitems=[('Home', 'Reset original view', 'home', 'home'), ('Back', 'Back to previous …"
      ]
     },
     "metadata": {},
     "output_type": "display_data"
    }
   ],
   "source": [
    "fig, ax = plt.subplots()\n",
    "ax.set_aspect(1)\n",
    "im = plt.imshow(board, interpolation='none', cmap='binary')\n",
    "ax.set_title(f\"Iteration 0\")\n",
    "\n",
    "def init():\n",
    "    im.set_data(randint(0, high=2, size=(rows, cols)))\n",
    "    return [im]\n",
    "\n",
    "boards = []\n",
    "def animate(i):\n",
    "    curr_board = im.get_array()\n",
    "    boards.append(curr_board)\n",
    "    new_board = update_board(curr_board)\n",
    "    im.set_array(new_board)\n",
    "    ax.set_title(f\"Iteration {i}\")\n",
    "    return [im]\n",
    "\n",
    "anim = FuncAnimation(fig, animate, init_func=init, frames=1000, interval=300, blit=False)\n",
    "\n",
    "plt.show()"
   ]
  },
  {
   "cell_type": "code",
   "execution_count": 108,
   "id": "8369dc01-1bb1-4731-adf8-48210d0ea230",
   "metadata": {},
   "outputs": [],
   "source": [
    "anim.event_source.stop()"
   ]
  },
  {
   "cell_type": "code",
   "execution_count": 109,
   "id": "43a69605-cbd2-4f31-8301-505e5480dd8f",
   "metadata": {},
   "outputs": [],
   "source": [
    "plt.close('all')"
   ]
  },
  {
   "cell_type": "code",
   "execution_count": null,
   "id": "f3aedcf3-074b-457b-88a5-cb9a9e888a55",
   "metadata": {},
   "outputs": [],
   "source": []
  }
 ],
 "metadata": {
  "kernelspec": {
   "display_name": "Python 3 (ipykernel)",
   "language": "python",
   "name": "python3"
  },
  "language_info": {
   "codemirror_mode": {
    "name": "ipython",
    "version": 3
   },
   "file_extension": ".py",
   "mimetype": "text/x-python",
   "name": "python",
   "nbconvert_exporter": "python",
   "pygments_lexer": "ipython3",
   "version": "3.7.12"
  }
 },
 "nbformat": 4,
 "nbformat_minor": 5
}
