{
 "cells": [
  {
   "cell_type": "code",
   "execution_count": 1,
   "id": "7a9bb46a",
   "metadata": {},
   "outputs": [],
   "source": [
    "%matplotlib widget\n",
    "import numpy as np\n",
    "import matplotlib.pyplot as plt\n",
    "from matplotlib.animation import FuncAnimation\n",
    "import time\n",
    "\n",
    "from numpy.random import randint"
   ]
  },
  {
   "cell_type": "markdown",
   "id": "647edfe7",
   "metadata": {},
   "source": [
    "# Game of Life Rules\n",
    "1. Any live cell with two or three live neighbours survives.\n",
    "2. Any dead cell with three live neighbours becomes a live cell.\n",
    "3. All other live cells die in the next generation. Similarly, all other dead cells stay dead."
   ]
  },
  {
   "cell_type": "code",
   "execution_count": 8,
   "id": "6749a7fc",
   "metadata": {},
   "outputs": [],
   "source": [
    "# initial setup\n",
    "rows = 20\n",
    "cols = 20\n",
    "board = randint(0, high=2, size=(rows, cols))"
   ]
  },
  {
   "cell_type": "code",
   "execution_count": 9,
   "id": "2e5b98ac-0f70-44a2-baff-a9bf88b78f1e",
   "metadata": {},
   "outputs": [
    {
     "data": {
      "text/plain": [
       "array([[0, 0, 0, 1, 0, 1, 0, 0, 0, 0, 0, 0, 1, 1, 0, 1, 0, 0, 1, 0],\n",
       "       [0, 0, 1, 1, 0, 0, 0, 1, 0, 1, 1, 0, 1, 1, 0, 0, 1, 0, 0, 0],\n",
       "       [0, 0, 1, 0, 0, 1, 1, 1, 0, 0, 0, 0, 0, 0, 1, 0, 0, 0, 1, 0],\n",
       "       [1, 0, 0, 1, 0, 1, 0, 0, 1, 0, 1, 1, 0, 0, 1, 0, 0, 0, 1, 1],\n",
       "       [1, 0, 1, 1, 1, 0, 0, 0, 1, 0, 0, 0, 1, 1, 1, 0, 0, 1, 0, 0],\n",
       "       [1, 0, 0, 1, 1, 0, 0, 0, 0, 1, 0, 0, 0, 0, 0, 0, 1, 1, 0, 0],\n",
       "       [1, 1, 0, 1, 1, 0, 1, 1, 0, 0, 1, 0, 0, 0, 0, 1, 1, 1, 0, 0],\n",
       "       [0, 1, 1, 1, 0, 0, 0, 0, 1, 0, 0, 0, 1, 0, 1, 0, 0, 0, 1, 0],\n",
       "       [1, 1, 0, 0, 0, 0, 1, 0, 0, 1, 0, 0, 0, 1, 1, 1, 1, 0, 0, 1],\n",
       "       [1, 0, 1, 0, 1, 0, 0, 0, 0, 0, 0, 0, 1, 1, 1, 0, 0, 1, 1, 1],\n",
       "       [1, 0, 0, 1, 1, 0, 1, 0, 1, 0, 1, 1, 0, 1, 1, 0, 0, 1, 1, 0],\n",
       "       [0, 0, 0, 0, 1, 0, 1, 0, 0, 0, 1, 1, 1, 1, 1, 1, 1, 0, 1, 1],\n",
       "       [1, 1, 0, 1, 1, 0, 1, 0, 0, 1, 0, 0, 0, 1, 1, 0, 1, 0, 0, 1],\n",
       "       [0, 1, 0, 1, 1, 1, 1, 0, 1, 0, 1, 0, 0, 1, 1, 1, 0, 0, 1, 0],\n",
       "       [0, 1, 0, 0, 1, 1, 1, 1, 1, 0, 1, 1, 1, 1, 1, 1, 1, 0, 1, 0],\n",
       "       [1, 0, 1, 1, 0, 0, 1, 0, 1, 0, 1, 0, 0, 0, 0, 1, 1, 0, 0, 1],\n",
       "       [1, 1, 0, 1, 0, 0, 0, 1, 1, 0, 0, 0, 1, 0, 0, 1, 0, 0, 1, 0],\n",
       "       [0, 1, 0, 0, 1, 0, 0, 1, 1, 0, 1, 0, 0, 0, 1, 0, 1, 0, 0, 0],\n",
       "       [0, 1, 1, 1, 0, 1, 1, 0, 0, 0, 1, 0, 1, 0, 1, 0, 1, 0, 1, 1],\n",
       "       [0, 1, 0, 1, 0, 0, 0, 0, 1, 0, 0, 0, 1, 1, 1, 0, 1, 0, 1, 0]])"
      ]
     },
     "execution_count": 9,
     "metadata": {},
     "output_type": "execute_result"
    }
   ],
   "source": [
    "board"
   ]
  },
  {
   "cell_type": "code",
   "execution_count": 4,
   "id": "33d2dd7e-8df0-488c-af66-25b7d01422ab",
   "metadata": {},
   "outputs": [],
   "source": [
    "def get_live_neighbors(m, n, curr_board):\n",
    "    c_start, c_end = max(0,n-1), min(cols-1, n+1)\n",
    "    r_start, r_end = max(0,m-1), min(rows-1, m+1)\n",
    "    return curr_board[r_start:r_end+1, c_start:c_end+1].sum() - curr_board[m, n]\n",
    "\n",
    "def update_cell(num_live, state):\n",
    "    if num_live in (2, 3) and state == 1:\n",
    "        return 1\n",
    "    if num_live == 3 and state == 0:\n",
    "        return 1\n",
    "    \n",
    "    return 0\n",
    "\n",
    "def update_board(curr_board):\n",
    "    new_board = np.zeros((rows, cols), dtype=int)\n",
    "    for row in range(curr_board.shape[0]):\n",
    "        for col in range(curr_board.shape[1]):\n",
    "            num_live = get_live_neighbors(row, col, curr_board)\n",
    "            new_state = update_cell(num_live, curr_board[row, col])\n",
    "            new_board[row, col] = new_state\n",
    "    \n",
    "    return new_board"
   ]
  },
  {
   "cell_type": "code",
   "execution_count": 14,
   "id": "7d2b788e",
   "metadata": {},
   "outputs": [
    {
     "data": {
      "application/vnd.jupyter.widget-view+json": {
       "model_id": "9625155b909d4a87af7ca4c2a6b63a63",
       "version_major": 2,
       "version_minor": 0
      },
      "text/html": [
       "\n",
       "            <div style=\"display: inline-block;\">\n",
       "                <div class=\"jupyter-widgets widget-label\" style=\"text-align: center;\">\n",
       "                    Figure\n",
       "                </div>\n",
       "                <img src='data:image/png;base64,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' width=640.0/>\n",
       "            </div>\n",
       "        "
      ],
      "text/plain": [
       "Canvas(toolbar=Toolbar(toolitems=[('Home', 'Reset original view', 'home', 'home'), ('Back', 'Back to previous …"
      ]
     },
     "metadata": {},
     "output_type": "display_data"
    }
   ],
   "source": [
    "fig, ax = plt.subplots()\n",
    "ax.set_aspect(1)\n",
    "im = plt.imshow(board, interpolation='none', cmap='binary')\n",
    "ax.set_title(f\"Iteration 0\")\n",
    "ax.set_xticks([])\n",
    "ax.set_yticks([])\n",
    "ax.set_xticklabels([])\n",
    "ax.set_yticklabels([])\n",
    "\n",
    "def init():\n",
    "    im.set_data(randint(0, high=2, size=(rows, cols)))\n",
    "    return [im]\n",
    "\n",
    "boards = []\n",
    "def animate(i):\n",
    "    curr_board = im.get_array()\n",
    "    boards.append(curr_board)\n",
    "    new_board = update_board(curr_board)\n",
    "    im.set_array(new_board)\n",
    "    ax.set_title(f\"Iteration {i}\")\n",
    "    return [im]\n",
    "\n",
    "anim = FuncAnimation(fig, animate, init_func=init, frames=1000, interval=300, blit=False)\n",
    "\n",
    "plt.show()"
   ]
  },
  {
   "cell_type": "code",
   "execution_count": 11,
   "id": "8369dc01-1bb1-4731-adf8-48210d0ea230",
   "metadata": {},
   "outputs": [],
   "source": [
    "anim.event_source.stop()"
   ]
  },
  {
   "cell_type": "code",
   "execution_count": 12,
   "id": "43a69605-cbd2-4f31-8301-505e5480dd8f",
   "metadata": {},
   "outputs": [],
   "source": [
    "plt.close('all')"
   ]
  },
  {
   "cell_type": "code",
   "execution_count": null,
   "id": "f3aedcf3-074b-457b-88a5-cb9a9e888a55",
   "metadata": {},
   "outputs": [],
   "source": []
  }
 ],
 "metadata": {
  "kernelspec": {
   "display_name": "Python 3 (ipykernel)",
   "language": "python",
   "name": "python3"
  },
  "language_info": {
   "codemirror_mode": {
    "name": "ipython",
    "version": 3
   },
   "file_extension": ".py",
   "mimetype": "text/x-python",
   "name": "python",
   "nbconvert_exporter": "python",
   "pygments_lexer": "ipython3",
   "version": "3.7.12"
  }
 },
 "nbformat": 4,
 "nbformat_minor": 5
}
